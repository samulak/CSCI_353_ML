{
 "cells": [
  {
   "cell_type": "markdown",
   "metadata": {},
   "source": [
    "## Part A: Model Code"
   ]
  },
  {
   "cell_type": "markdown",
   "metadata": {},
   "source": [
    "#### A(1). Write a function to calculate and return the Euclidean distance of two vectors."
   ]
  },
  {
   "cell_type": "code",
   "execution_count": 1,
   "metadata": {},
   "outputs": [],
   "source": [
    "def euclidean_distance(xVec, yVec):\n",
    "    if len(xVec) == len(yVec):\n",
    "        output = 0\n",
    "        for i in range(len(xVec)):\n",
    "            output += (xVec[i] - yVec[i])**2\n",
    "        output = np.sqrt(output)\n",
    "        return output\n",
    "    else:\n",
    "        return \"Error: vectors are of different dinmentsions!\""
   ]
  },
  {
   "cell_type": "markdown",
   "metadata": {},
   "source": [
    "#### A(2). Write a function to calculate and return the manhattam distance of two vectors."
   ]
  },
  {
   "cell_type": "code",
   "execution_count": 2,
   "metadata": {},
   "outputs": [],
   "source": [
    "def manhattan_distance(xVec, yVec):\n",
    "    if len(xVec) == len(yVec):\n",
    "        output = 0\n",
    "        for i in range(len(xVec)):\n",
    "            output += abs(xVec[i] - yVec[i])\n",
    "        return output\n",
    "    else:\n",
    "        return \"Error: vectors are of different dinmentsions!\"\n"
   ]
  },
  {
   "cell_type": "markdown",
   "metadata": {},
   "source": [
    "#### A(3). Write a function to calculate and return the accuracy and generalization of two vectors."
   ]
  },
  {
   "cell_type": "code",
   "execution_count": null,
   "metadata": {},
   "outputs": [],
   "source": []
  }
 ],
 "metadata": {
  "kernelspec": {
   "display_name": "Python 3",
   "language": "python",
   "name": "python3"
  },
  "language_info": {
   "codemirror_mode": {
    "name": "ipython",
    "version": 3
   },
   "file_extension": ".py",
   "mimetype": "text/x-python",
   "name": "python",
   "nbconvert_exporter": "python",
   "pygments_lexer": "ipython3",
   "version": "3.8.5"
  }
 },
 "nbformat": 4,
 "nbformat_minor": 4
}
