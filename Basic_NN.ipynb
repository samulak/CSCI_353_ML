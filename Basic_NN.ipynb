{
 "cells": [
  {
   "cell_type": "markdown",
   "metadata": {},
   "source": [
    "## Basic neural network\n",
    "\n",
    "### "
   ]
  },
  {
   "cell_type": "code",
   "execution_count": 4,
   "metadata": {},
   "outputs": [
    {
     "name": "stdout",
     "output_type": "stream",
     "text": [
      "Output: \n",
      "[[0.00180751]\n",
      " [0.99846881]\n",
      " [0.99897904]\n",
      " [0.00120532]]\n"
     ]
    }
   ],
   "source": [
    "import numpy as np\n",
    "\n",
    "#Activation function\n",
    "def sigmoid(x):\n",
    "    return 1/(1 + np.exp(-x))\n",
    "\n",
    "#Derivative of activation function\n",
    "def sigmoid_derivative(x):\n",
    "    return sigmoid(x)*(1-sigmoid(x))\n",
    "\n",
    "# Training set\n",
    "training_set = np.array([[0,0,1],\n",
    "                        [1,1,1],\n",
    "                        [1,0,1],\n",
    "                        [0,1,1]])\n",
    "# Labels for the training set\n",
    "category_labels = np.array([[0,1,1,0]]).T\n",
    "\n",
    "\n",
    "# Random weights\n",
    "np.random.seed(1)\n",
    "weights = 2 * np.random.random((3,1))-1\n",
    "\n",
    " \n",
    "#Training\n",
    "for train in range(4000):\n",
    "    input_layer = training_set\n",
    "    \n",
    "    # Calculate a dot product between the input layer and weights\n",
    "    output_layer = sigmoid(np.dot(input_layer, weights)) \n",
    "    \n",
    "    # Calculate the error between predicted values and actual labels for the test set\n",
    "    error = category_labels - output_layer\n",
    "    \n",
    "    # Compute adjusments that will be used to modify the weights\n",
    "    adjusments = error * sigmoid_derivative(output_layer)\n",
    "    \n",
    "    # Weights adjusment\n",
    "    weights += np.dot(input_layer.T, adjusments)\n",
    " \n",
    " \n",
    "# Final output after training\n",
    "print(\"Output: \")\n",
    "print(output_layer)"
   ]
  },
  {
   "cell_type": "code",
   "execution_count": 5,
   "metadata": {},
   "outputs": [
    {
     "name": "stdout",
     "output_type": "stream",
     "text": [
      "Output: \n",
      "[[0.99999815]]\n"
     ]
    }
   ],
   "source": [
    "#New data used with the trained network\n",
    "\n",
    "New_instance = np.array([[1,0,0]])\n",
    "\n",
    "# Using pretrained weights with the new data instance\n",
    "output_layer = sigmoid(np.dot(New_instance, weights))\n",
    "\n",
    "print(\"Output: \")\n",
    "print(output_layer)"
   ]
  }
 ],
 "metadata": {
  "kernelspec": {
   "display_name": "Python 3",
   "language": "python",
   "name": "python3"
  },
  "language_info": {
   "codemirror_mode": {
    "name": "ipython",
    "version": 3
   },
   "file_extension": ".py",
   "mimetype": "text/x-python",
   "name": "python",
   "nbconvert_exporter": "python",
   "pygments_lexer": "ipython3",
   "version": "3.8.5"
  }
 },
 "nbformat": 4,
 "nbformat_minor": 4
}
